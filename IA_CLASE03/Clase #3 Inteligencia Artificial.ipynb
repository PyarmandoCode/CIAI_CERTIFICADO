{
 "cells": [
  {
   "cell_type": "markdown",
   "id": "db16122d",
   "metadata": {},
   "source": [
    "## Numpy\n",
    "-  Es Una Biblioteca que proporciona soporte para el trabajo con arreglos unidimencionales , multidimencionales , una variedad de funciones matematicas para trabajar con arreglos.\n",
    "![imagen](numpy.png)\n",
    "\n",
    "Creación de Arrays:\n",
    "\n",
    "- numpy.array: Crea un array NumPy a partir de una lista o tupla.\n",
    "- numpy.zeros: Crea un array de ceros con la forma especificada.\n",
    "- numpy.ones: Crea un array de unos con la forma especificada.\n",
    "- numpy.arange: Crea un array con valores espaciados uniformemente dentro de un rango.\n",
    "- numpy.linspace: Crea un array con valores espaciados uniformemente entre dos números.\n",
    "\n",
    "Operaciones Matemáticas Básicas:\n",
    "\n",
    "- numpy.add: Suma elementos de dos arrays.\n",
    "- numpy.subtract: Resta elementos de dos arrays.\n",
    "- numpy.multiply: Multiplica elementos de dos arrays.\n",
    "- numpy.divide: Divide elementos de dos arrays.\n",
    "- numpy.power: Eleva cada elemento de un array a la potencia de otro.\n",
    "\n",
    "Funciones Trigonométricas y Exponenciales:\n",
    "\n",
    "- numpy.sin, numpy.cos, numpy.tan: Funciones trigonométricas.\n",
    "- numpy.exp: Calcula la exponencial de cada elemento.\n",
    "- numpy.log, numpy.log10, numpy.log2: Funciones logarítmicas.\n",
    "\n",
    "Funciones Estadísticas:\n",
    "\n",
    "- numpy.mean: Calcula la media de los elementos.\n",
    "- numpy.median: Calcula la mediana de los elementos.\n",
    "- numpy.std: Calcula la desviación estándar de los elementos.\n",
    "- numpy.var: Calcula la varianza de los elementos.\n",
    "\n",
    "Manipulación de Arrays:\n",
    "\n",
    "- numpy.reshape: Cambia la forma de un array.\n",
    "- numpy.concatenate: Combina dos o más arrays a lo largo de un eje.\n",
    "- numpy.split: Divide un array en sub-arrays.\n",
    "- numpy.transpose: Transpone un array.\n",
    "\n",
    "Álgebra Lineal:\n",
    "\n",
    "- numpy.dot: Calcula el producto punto de dos arrays.\n",
    "- numpy.linalg.inv: Calcula la matriz inversa.\n",
    "- numpy.linalg.det: Calcula el determinante de una matriz.\n",
    "\n",
    "Funciones de Comparación y Lógicas:\n",
    "\n",
    "- numpy.equal, numpy.not_equal, numpy.greater, numpy.less: Operaciones de comparación elemento a elemento.\n",
    "- numpy.logical_and, numpy.logical_or, numpy.logical_not: Operaciones lógicas.\n",
    "\n",
    "Funciones de Redondeo y Truncado:\n",
    "\n",
    "- numpy.round: Redondea elementos al número especificado de decimales.\n",
    "- numpy.floor: Redondea hacia abajo.\n",
    "- numpy.ceil: Redondea hacia arriba.\n",
    "- numpy.trunc: Trunca los elementos a la parte entera.\n"
   ]
  },
  {
   "cell_type": "code",
   "execution_count": 4,
   "id": "7afd86cd",
   "metadata": {},
   "outputs": [],
   "source": [
    "import numpy as np"
   ]
  },
  {
   "cell_type": "code",
   "execution_count": 5,
   "id": "15ad25b9",
   "metadata": {},
   "outputs": [
    {
     "data": {
      "text/plain": [
       "array([1, 2, 3, 4, 5])"
      ]
     },
     "execution_count": 5,
     "metadata": {},
     "output_type": "execute_result"
    }
   ],
   "source": [
    "#Crear un Array unideminsional y realizar operaciones en el array\n",
    "arr= np.array([1,2,3,4,5])\n",
    "arr"
   ]
  },
  {
   "cell_type": "code",
   "execution_count": 7,
   "id": "f973ebab",
   "metadata": {},
   "outputs": [
    {
     "name": "stdout",
     "output_type": "stream",
     "text": [
      "Suma 15\n",
      "Media 3.0\n",
      "Producto 120\n"
     ]
    }
   ],
   "source": [
    "print(\"Suma\" , np.sum(arr))\n",
    "print(\"Media\" , np.mean(arr))\n",
    "print(\"Producto\",np.prod(arr))\n"
   ]
  },
  {
   "cell_type": "code",
   "execution_count": 11,
   "id": "87e62158",
   "metadata": {},
   "outputs": [
    {
     "data": {
      "text/plain": [
       "array([0.15572247, 0.03828075, 0.75213411, 0.09506994, 0.39582284,\n",
       "       0.24541966, 0.96910794, 0.95949273, 0.62191825, 0.34385747])"
      ]
     },
     "execution_count": 11,
     "metadata": {},
     "output_type": "execute_result"
    }
   ],
   "source": [
    "#Array con numeros Aleatorios\n",
    "arr_random=np.random.rand(10)\n",
    "arr_random"
   ]
  },
  {
   "cell_type": "code",
   "execution_count": 13,
   "id": "4b353ce2",
   "metadata": {},
   "outputs": [
    {
     "data": {
      "text/plain": [
       "array([0.75213411, 0.96910794, 0.95949273, 0.62191825])"
      ]
     },
     "execution_count": 13,
     "metadata": {},
     "output_type": "execute_result"
    }
   ],
   "source": [
    "#Filtar elementos del array en base  al array creado anteriormente\n",
    "filters_arr=arr_random[arr_random>=0.5]\n",
    "filters_arr"
   ]
  },
  {
   "cell_type": "code",
   "execution_count": 15,
   "id": "5a7d8836",
   "metadata": {},
   "outputs": [
    {
     "data": {
      "text/plain": [
       "array([[1, 2, 3],\n",
       "       [4, 5, 6],\n",
       "       [7, 8, 9]])"
      ]
     },
     "execution_count": 15,
     "metadata": {},
     "output_type": "execute_result"
    }
   ],
   "source": [
    "#array Bidimencional\n",
    "arr_2_d=np.array([[1,2,3],[4,5,6],[7,8,9]])\n",
    "arr_2_d"
   ]
  },
  {
   "cell_type": "code",
   "execution_count": 17,
   "id": "6e049d5b",
   "metadata": {},
   "outputs": [
    {
     "data": {
      "text/plain": [
       "array([8, 9, 7, 4, 3, 1, 7, 6, 5, 8])"
      ]
     },
     "execution_count": 17,
     "metadata": {},
     "output_type": "execute_result"
    }
   ],
   "source": [
    "#Array con numeros Aleatorios\n",
    "low=0\n",
    "high=10\n",
    "size=10\n",
    "arr_random=np.random.randint(low,high,size)\n",
    "arr_random"
   ]
  },
  {
   "cell_type": "code",
   "execution_count": 18,
   "id": "8cdd64e9",
   "metadata": {},
   "outputs": [
    {
     "data": {
      "text/plain": [
       "array([[1, 2, 3],\n",
       "       [4, 5, 6],\n",
       "       [7, 8, 9]])"
      ]
     },
     "execution_count": 18,
     "metadata": {},
     "output_type": "execute_result"
    }
   ],
   "source": [
    "#array Bidimencional\n",
    "arr_2_d=np.array([[1,2,3],[4,5,6],[7,8,9]])\n",
    "arr_2_d"
   ]
  },
  {
   "cell_type": "code",
   "execution_count": 19,
   "id": "576627b2",
   "metadata": {},
   "outputs": [
    {
     "name": "stdout",
     "output_type": "stream",
     "text": [
      "Acceder a un elemento especifio 9\n"
     ]
    }
   ],
   "source": [
    "print(\"Acceder a un elemento especifio\",arr_2_d[2,2])"
   ]
  },
  {
   "cell_type": "markdown",
   "id": "ab1e38f6",
   "metadata": {},
   "source": [
    "## Axis\n",
    "- Se utiliza para especificar en que eje voy a utilizar la operacion\n",
    "- axis = 0 se llevara a cabo a lo largo del primer eje= Columnas "
   ]
  },
  {
   "cell_type": "code",
   "execution_count": 20,
   "id": "a58e4139",
   "metadata": {},
   "outputs": [
    {
     "data": {
      "text/plain": [
       "array([[1, 2, 3],\n",
       "       [4, 5, 6],\n",
       "       [7, 8, 9]])"
      ]
     },
     "execution_count": 20,
     "metadata": {},
     "output_type": "execute_result"
    }
   ],
   "source": [
    "#array Bidimencional\n",
    "arr_2_d=np.array([[1,2,3],[4,5,6],[7,8,9]])\n",
    "arr_2_d"
   ]
  },
  {
   "cell_type": "code",
   "execution_count": 22,
   "id": "b5a657d2",
   "metadata": {},
   "outputs": [
    {
     "name": "stdout",
     "output_type": "stream",
     "text": [
      "Suma por columnas [12 15 18]\n",
      "Suma por filas [ 6 15 24]\n"
     ]
    }
   ],
   "source": [
    "print(\"Suma por columnas\" ,np.sum(arr_2_d,axis=0))\n",
    "print(\"Suma por filas\" ,np.sum(arr_2_d,axis=1))"
   ]
  },
  {
   "cell_type": "code",
   "execution_count": 23,
   "id": "4091410f",
   "metadata": {},
   "outputs": [],
   "source": [
    "import pandas as pd\n"
   ]
  },
  {
   "cell_type": "code",
   "execution_count": 30,
   "id": "a462894d",
   "metadata": {},
   "outputs": [
    {
     "data": {
      "text/html": [
       "<div>\n",
       "<style scoped>\n",
       "    .dataframe tbody tr th:only-of-type {\n",
       "        vertical-align: middle;\n",
       "    }\n",
       "\n",
       "    .dataframe tbody tr th {\n",
       "        vertical-align: top;\n",
       "    }\n",
       "\n",
       "    .dataframe thead th {\n",
       "        text-align: right;\n",
       "    }\n",
       "</style>\n",
       "<table border=\"1\" class=\"dataframe\">\n",
       "  <thead>\n",
       "    <tr style=\"text-align: right;\">\n",
       "      <th></th>\n",
       "      <th>A</th>\n",
       "      <th>B</th>\n",
       "      <th>C</th>\n",
       "      <th>D</th>\n",
       "    </tr>\n",
       "  </thead>\n",
       "  <tbody>\n",
       "    <tr>\n",
       "      <th>0</th>\n",
       "      <td>-1.933948</td>\n",
       "      <td>-0.740796</td>\n",
       "      <td>0.282410</td>\n",
       "      <td>-0.535695</td>\n",
       "    </tr>\n",
       "    <tr>\n",
       "      <th>1</th>\n",
       "      <td>-0.440524</td>\n",
       "      <td>-0.607380</td>\n",
       "      <td>-0.495781</td>\n",
       "      <td>-1.187331</td>\n",
       "    </tr>\n",
       "    <tr>\n",
       "      <th>2</th>\n",
       "      <td>0.508170</td>\n",
       "      <td>2.010496</td>\n",
       "      <td>-0.448806</td>\n",
       "      <td>1.248811</td>\n",
       "    </tr>\n",
       "    <tr>\n",
       "      <th>3</th>\n",
       "      <td>1.523698</td>\n",
       "      <td>1.339685</td>\n",
       "      <td>-0.274170</td>\n",
       "      <td>-0.167213</td>\n",
       "    </tr>\n",
       "    <tr>\n",
       "      <th>4</th>\n",
       "      <td>0.493548</td>\n",
       "      <td>-0.365997</td>\n",
       "      <td>-0.900237</td>\n",
       "      <td>-0.874080</td>\n",
       "    </tr>\n",
       "    <tr>\n",
       "      <th>5</th>\n",
       "      <td>-0.586227</td>\n",
       "      <td>0.712234</td>\n",
       "      <td>1.415300</td>\n",
       "      <td>-0.030785</td>\n",
       "    </tr>\n",
       "    <tr>\n",
       "      <th>6</th>\n",
       "      <td>0.345286</td>\n",
       "      <td>0.083456</td>\n",
       "      <td>-0.881683</td>\n",
       "      <td>-0.625992</td>\n",
       "    </tr>\n",
       "    <tr>\n",
       "      <th>7</th>\n",
       "      <td>1.348344</td>\n",
       "      <td>1.101897</td>\n",
       "      <td>0.369560</td>\n",
       "      <td>1.884756</td>\n",
       "    </tr>\n",
       "    <tr>\n",
       "      <th>8</th>\n",
       "      <td>0.029354</td>\n",
       "      <td>0.804278</td>\n",
       "      <td>-0.991625</td>\n",
       "      <td>-0.823114</td>\n",
       "    </tr>\n",
       "    <tr>\n",
       "      <th>9</th>\n",
       "      <td>-0.518881</td>\n",
       "      <td>-0.298446</td>\n",
       "      <td>-1.841804</td>\n",
       "      <td>0.225170</td>\n",
       "    </tr>\n",
       "  </tbody>\n",
       "</table>\n",
       "</div>"
      ],
      "text/plain": [
       "          A         B         C         D\n",
       "0 -1.933948 -0.740796  0.282410 -0.535695\n",
       "1 -0.440524 -0.607380 -0.495781 -1.187331\n",
       "2  0.508170  2.010496 -0.448806  1.248811\n",
       "3  1.523698  1.339685 -0.274170 -0.167213\n",
       "4  0.493548 -0.365997 -0.900237 -0.874080\n",
       "5 -0.586227  0.712234  1.415300 -0.030785\n",
       "6  0.345286  0.083456 -0.881683 -0.625992\n",
       "7  1.348344  1.101897  0.369560  1.884756\n",
       "8  0.029354  0.804278 -0.991625 -0.823114\n",
       "9 -0.518881 -0.298446 -1.841804  0.225170"
      ]
     },
     "execution_count": 30,
     "metadata": {},
     "output_type": "execute_result"
    }
   ],
   "source": [
    "#Crear un Dataframe a partir de un array numpy\n",
    "data_array=np.random.randn(10,4)\n",
    "df=pd.DataFrame(data_array,columns=['A','B','C','D'])\n",
    "df"
   ]
  },
  {
   "cell_type": "markdown",
   "id": "9e4c92d4",
   "metadata": {},
   "source": [
    "## Ejercicio de Pandas que incluye:\n",
    "- Cargar datos\n",
    "- Limpieza de datos\n",
    "- Filtrar Informacion\n",
    "- Visualizar algunas Graficos"
   ]
  },
  {
   "cell_type": "code",
   "execution_count": 31,
   "id": "12c05bc9",
   "metadata": {},
   "outputs": [
    {
     "data": {
      "text/html": [
       "<div>\n",
       "<style scoped>\n",
       "    .dataframe tbody tr th:only-of-type {\n",
       "        vertical-align: middle;\n",
       "    }\n",
       "\n",
       "    .dataframe tbody tr th {\n",
       "        vertical-align: top;\n",
       "    }\n",
       "\n",
       "    .dataframe thead th {\n",
       "        text-align: right;\n",
       "    }\n",
       "</style>\n",
       "<table border=\"1\" class=\"dataframe\">\n",
       "  <thead>\n",
       "    <tr style=\"text-align: right;\">\n",
       "      <th></th>\n",
       "      <th>Nombre</th>\n",
       "      <th>Edad</th>\n",
       "      <th>Nota1</th>\n",
       "      <th>Nota2</th>\n",
       "    </tr>\n",
       "  </thead>\n",
       "  <tbody>\n",
       "    <tr>\n",
       "      <th>0</th>\n",
       "      <td>Juan</td>\n",
       "      <td>22.0</td>\n",
       "      <td>75.0</td>\n",
       "      <td>82.0</td>\n",
       "    </tr>\n",
       "    <tr>\n",
       "      <th>1</th>\n",
       "      <td>Maria</td>\n",
       "      <td>21.0</td>\n",
       "      <td>85.0</td>\n",
       "      <td>88.0</td>\n",
       "    </tr>\n",
       "    <tr>\n",
       "      <th>2</th>\n",
       "      <td>Carlos</td>\n",
       "      <td>NaN</td>\n",
       "      <td>90.0</td>\n",
       "      <td>92.0</td>\n",
       "    </tr>\n",
       "    <tr>\n",
       "      <th>3</th>\n",
       "      <td>Ana</td>\n",
       "      <td>23.0</td>\n",
       "      <td>78.0</td>\n",
       "      <td>79.0</td>\n",
       "    </tr>\n",
       "    <tr>\n",
       "      <th>4</th>\n",
       "      <td>Luis</td>\n",
       "      <td>24.0</td>\n",
       "      <td>NaN</td>\n",
       "      <td>85.0</td>\n",
       "    </tr>\n",
       "    <tr>\n",
       "      <th>5</th>\n",
       "      <td>Elena</td>\n",
       "      <td>22.0</td>\n",
       "      <td>95.0</td>\n",
       "      <td>NaN</td>\n",
       "    </tr>\n",
       "  </tbody>\n",
       "</table>\n",
       "</div>"
      ],
      "text/plain": [
       "   Nombre  Edad  Nota1  Nota2\n",
       "0    Juan  22.0   75.0   82.0\n",
       "1   Maria  21.0   85.0   88.0\n",
       "2  Carlos   NaN   90.0   92.0\n",
       "3     Ana  23.0   78.0   79.0\n",
       "4    Luis  24.0    NaN   85.0\n",
       "5   Elena  22.0   95.0    NaN"
      ]
     },
     "execution_count": 31,
     "metadata": {},
     "output_type": "execute_result"
    }
   ],
   "source": [
    "import pandas as pd\n",
    "data = {\n",
    "    'Nombre':['Juan','Maria','Carlos','Ana','Luis','Elena'],\n",
    "    'Edad':[22,21,None,23,24,22],\n",
    "    'Nota1':[75,85,90,78,None,95],\n",
    "    'Nota2':[82,88,92,79,85,None],\n",
    "}\n",
    "df = pd.DataFrame(data)\n",
    "df"
   ]
  },
  {
   "cell_type": "code",
   "execution_count": 32,
   "id": "59306910",
   "metadata": {},
   "outputs": [
    {
     "name": "stdout",
     "output_type": "stream",
     "text": [
      "<class 'pandas.core.frame.DataFrame'>\n",
      "RangeIndex: 6 entries, 0 to 5\n",
      "Data columns (total 4 columns):\n",
      " #   Column  Non-Null Count  Dtype  \n",
      "---  ------  --------------  -----  \n",
      " 0   Nombre  6 non-null      object \n",
      " 1   Edad    5 non-null      float64\n",
      " 2   Nota1   5 non-null      float64\n",
      " 3   Nota2   5 non-null      float64\n",
      "dtypes: float64(3), object(1)\n",
      "memory usage: 324.0+ bytes\n"
     ]
    }
   ],
   "source": [
    "df.info()"
   ]
  },
  {
   "cell_type": "code",
   "execution_count": 33,
   "id": "c574375a",
   "metadata": {},
   "outputs": [
    {
     "data": {
      "text/html": [
       "<div>\n",
       "<style scoped>\n",
       "    .dataframe tbody tr th:only-of-type {\n",
       "        vertical-align: middle;\n",
       "    }\n",
       "\n",
       "    .dataframe tbody tr th {\n",
       "        vertical-align: top;\n",
       "    }\n",
       "\n",
       "    .dataframe thead th {\n",
       "        text-align: right;\n",
       "    }\n",
       "</style>\n",
       "<table border=\"1\" class=\"dataframe\">\n",
       "  <thead>\n",
       "    <tr style=\"text-align: right;\">\n",
       "      <th></th>\n",
       "      <th>Nombre</th>\n",
       "      <th>Edad</th>\n",
       "      <th>Nota1</th>\n",
       "      <th>Nota2</th>\n",
       "    </tr>\n",
       "  </thead>\n",
       "  <tbody>\n",
       "    <tr>\n",
       "      <th>0</th>\n",
       "      <td>Juan</td>\n",
       "      <td>22.0</td>\n",
       "      <td>75.0</td>\n",
       "      <td>82.0</td>\n",
       "    </tr>\n",
       "    <tr>\n",
       "      <th>1</th>\n",
       "      <td>Maria</td>\n",
       "      <td>21.0</td>\n",
       "      <td>85.0</td>\n",
       "      <td>88.0</td>\n",
       "    </tr>\n",
       "    <tr>\n",
       "      <th>2</th>\n",
       "      <td>Carlos</td>\n",
       "      <td>22.4</td>\n",
       "      <td>90.0</td>\n",
       "      <td>92.0</td>\n",
       "    </tr>\n",
       "    <tr>\n",
       "      <th>3</th>\n",
       "      <td>Ana</td>\n",
       "      <td>23.0</td>\n",
       "      <td>78.0</td>\n",
       "      <td>79.0</td>\n",
       "    </tr>\n",
       "    <tr>\n",
       "      <th>4</th>\n",
       "      <td>Luis</td>\n",
       "      <td>24.0</td>\n",
       "      <td>84.6</td>\n",
       "      <td>85.0</td>\n",
       "    </tr>\n",
       "    <tr>\n",
       "      <th>5</th>\n",
       "      <td>Elena</td>\n",
       "      <td>22.0</td>\n",
       "      <td>95.0</td>\n",
       "      <td>85.2</td>\n",
       "    </tr>\n",
       "  </tbody>\n",
       "</table>\n",
       "</div>"
      ],
      "text/plain": [
       "   Nombre  Edad  Nota1  Nota2\n",
       "0    Juan  22.0   75.0   82.0\n",
       "1   Maria  21.0   85.0   88.0\n",
       "2  Carlos  22.4   90.0   92.0\n",
       "3     Ana  23.0   78.0   79.0\n",
       "4    Luis  24.0   84.6   85.0\n",
       "5   Elena  22.0   95.0   85.2"
      ]
     },
     "execution_count": 33,
     "metadata": {},
     "output_type": "execute_result"
    }
   ],
   "source": [
    "#Limpieza de datos\n",
    "df['Edad'].fillna(df['Edad'].mean(),inplace=True)\n",
    "df['Nota1'].fillna(df['Nota1'].mean(),inplace=True)\n",
    "df['Nota2'].fillna(df['Nota2'].mean(),inplace=True)\n",
    "df"
   ]
  },
  {
   "cell_type": "code",
   "execution_count": 34,
   "id": "adaa6d59",
   "metadata": {},
   "outputs": [
    {
     "name": "stdout",
     "output_type": "stream",
     "text": [
      "<class 'pandas.core.frame.DataFrame'>\n",
      "RangeIndex: 6 entries, 0 to 5\n",
      "Data columns (total 4 columns):\n",
      " #   Column  Non-Null Count  Dtype \n",
      "---  ------  --------------  ----- \n",
      " 0   Nombre  6 non-null      object\n",
      " 1   Edad    6 non-null      int32 \n",
      " 2   Nota1   6 non-null      int32 \n",
      " 3   Nota2   6 non-null      int32 \n",
      "dtypes: int32(3), object(1)\n",
      "memory usage: 252.0+ bytes\n"
     ]
    }
   ],
   "source": [
    "#Asegurar que los tipos de datos sean correctos\n",
    "df['Edad'] =df['Edad'].astype(int)\n",
    "df['Nota1'] =df['Nota1'].astype(int)\n",
    "df['Nota2'] =df['Nota2'].astype(int)\n",
    "df.info()"
   ]
  },
  {
   "cell_type": "code",
   "execution_count": 38,
   "id": "90a13c1a",
   "metadata": {},
   "outputs": [
    {
     "data": {
      "text/html": [
       "<div>\n",
       "<style scoped>\n",
       "    .dataframe tbody tr th:only-of-type {\n",
       "        vertical-align: middle;\n",
       "    }\n",
       "\n",
       "    .dataframe tbody tr th {\n",
       "        vertical-align: top;\n",
       "    }\n",
       "\n",
       "    .dataframe thead th {\n",
       "        text-align: right;\n",
       "    }\n",
       "</style>\n",
       "<table border=\"1\" class=\"dataframe\">\n",
       "  <thead>\n",
       "    <tr style=\"text-align: right;\">\n",
       "      <th></th>\n",
       "      <th>Nombre</th>\n",
       "      <th>Edad</th>\n",
       "      <th>Nota1</th>\n",
       "      <th>Nota2</th>\n",
       "    </tr>\n",
       "  </thead>\n",
       "  <tbody>\n",
       "    <tr>\n",
       "      <th>1</th>\n",
       "      <td>Maria</td>\n",
       "      <td>21</td>\n",
       "      <td>85</td>\n",
       "      <td>88</td>\n",
       "    </tr>\n",
       "    <tr>\n",
       "      <th>2</th>\n",
       "      <td>Carlos</td>\n",
       "      <td>22</td>\n",
       "      <td>90</td>\n",
       "      <td>92</td>\n",
       "    </tr>\n",
       "    <tr>\n",
       "      <th>4</th>\n",
       "      <td>Luis</td>\n",
       "      <td>24</td>\n",
       "      <td>84</td>\n",
       "      <td>85</td>\n",
       "    </tr>\n",
       "    <tr>\n",
       "      <th>5</th>\n",
       "      <td>Elena</td>\n",
       "      <td>22</td>\n",
       "      <td>95</td>\n",
       "      <td>85</td>\n",
       "    </tr>\n",
       "  </tbody>\n",
       "</table>\n",
       "</div>"
      ],
      "text/plain": [
       "   Nombre  Edad  Nota1  Nota2\n",
       "1   Maria    21     85     88\n",
       "2  Carlos    22     90     92\n",
       "4    Luis    24     84     85\n",
       "5   Elena    22     95     85"
      ]
     },
     "execution_count": 38,
     "metadata": {},
     "output_type": "execute_result"
    }
   ],
   "source": [
    "#Filtrar informacion\n",
    "df_filtrado_edad=df[df['Edad']>=24]\n",
    "df_filtrado_edad\n",
    "df_filtrado_notas=df[(df['Nota1']>80) & (df['Nota2']>80)]\n",
    "df_filtrado_notas\n"
   ]
  },
  {
   "cell_type": "code",
   "execution_count": 39,
   "id": "88908c25",
   "metadata": {},
   "outputs": [],
   "source": [
    "#Visualizacion de Resultados\n",
    "import matplotlib.pyplot as plt"
   ]
  },
  {
   "cell_type": "code",
   "execution_count": 44,
   "id": "6e1383fa",
   "metadata": {},
   "outputs": [
    {
     "data": {
      "image/png": "[encoded data removed]",
      "text/plain": [
       "<Figure size 640x480 with 1 Axes>"
      ]
     },
     "metadata": {},
     "output_type": "display_data"
    }
   ],
   "source": [
    "#Grafico de Barras \n",
    "df['NotaPromedio']=df[['Nota1','Nota2']].mean(axis=1)\n",
    "plt.bar(df['Nombre'],df['NotaPromedio'],color='skyblue')\n",
    "plt.title(\"Nota Promedio por Estudiante\")\n",
    "plt.show()"
   ]
  },
  {
   "cell_type": "code",
   "execution_count": null,
   "id": "05787bec",
   "metadata": {},
   "outputs": [],
   "source": []
  }
 ],
 "metadata": {
  "kernelspec": {
   "display_name": "Python 3 (ipykernel)",
   "language": "python",
   "name": "python3"
  },
  "language_info": {
   "codemirror_mode": {
    "name": "ipython",
    "version": 3
   },
   "file_extension": ".py",
   "mimetype": "text/x-python",
   "name": "python",
   "nbconvert_exporter": "python",
   "pygments_lexer": "ipython3",
   "version": "3.11.5"
  }
 },
 "nbformat": 4,
 "nbformat_minor": 5
}
